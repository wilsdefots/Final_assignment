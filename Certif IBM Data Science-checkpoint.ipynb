{
 "cells": [
  {
   "cell_type": "markdown",
   "id": "f8c0718a",
   "metadata": {},
   "source": [
    "# Data Science Tools and Ecosystem"
   ]
  },
  {
   "cell_type": "markdown",
   "id": "17e9e997",
   "metadata": {},
   "source": [
    "In this notebook, Data Science Tools and Ecosystem are summarized."
   ]
  },
  {
   "cell_type": "raw",
   "id": "4e0bc13b",
   "metadata": {},
   "source": [
    "Objectives:\n",
    "\n",
    "-List some Data Science langage\n",
    "\n",
    "- List some DataSciences librairies\n",
    "\n",
    "- List some Data sciences Tools\n",
    "\n",
    "- Create and add MarkDown\n",
    "\n",
    "- Manipulate algebra operations\n",
    "\n"
   ]
  },
  {
   "cell_type": "markdown",
   "id": "df91ba39",
   "metadata": {},
   "source": [
    "Some of the popular languages that Data Scientists use are:\n",
    "\n",
    "  1- Python \n",
    "  \n",
    "  2-R\n",
    "  \n",
    "  3-Java\n",
    "  \n",
    "  4-Julia"
   ]
  },
  {
   "cell_type": "markdown",
   "id": "451b3eb6",
   "metadata": {},
   "source": [
    "Some of the commonly used libraries used by Data Scientists include:\n",
    "\n",
    "1-Pytorch\n",
    "\n",
    "2-TensorFlow\n",
    "\n",
    "3-Matplotlib\n",
    "\n",
    "4-Seaborn\n"
   ]
  },
  {
   "cell_type": "markdown",
   "id": "33e3fe95",
   "metadata": {},
   "source": [
    "[Data Science Tools\n",
    "\n",
    "Apache Spark\n",
    "\n",
    "Matplotlib\n",
    "\n",
    "TensorFlow\n",
    "\n",
    "R]"
   ]
  },
  {
   "cell_type": "markdown",
   "id": "e193ad93",
   "metadata": {},
   "source": [
    "### Below are a few examples of evaluating arithmetic expressions in Python"
   ]
  },
  {
   "cell_type": "code",
   "execution_count": 16,
   "id": "c897123c",
   "metadata": {},
   "outputs": [
    {
     "data": {
      "text/plain": [
       "17"
      ]
     },
     "execution_count": 16,
     "metadata": {},
     "output_type": "execute_result"
    }
   ],
   "source": [
    "#This a simple arithmetic expression to mutiply then add integers\n",
    "(3*4)+5"
   ]
  },
  {
   "cell_type": "code",
   "execution_count": 17,
   "id": "b239d92b",
   "metadata": {},
   "outputs": [
    {
     "name": "stdout",
     "output_type": "stream",
     "text": [
      "200 min = 3 heures 20 secondes\n"
     ]
    }
   ],
   "source": [
    "#This will convert 200 minutes to hours by diving by 60\n",
    "s = 200 % 60 \n",
    "h = 200 // 60\n",
    "print(\"200 min = \" + str(h) + \" heures \" + str(s) + \" secondes\")\n"
   ]
  },
  {
   "cell_type": "markdown",
   "id": "485f9749",
   "metadata": {},
   "source": [
    "Author \n",
    "\n",
    "## FOTSING Wilson\n"
   ]
  }
 ],
 "metadata": {
  "kernelspec": {
   "display_name": "Python 3 (ipykernel)",
   "language": "python",
   "name": "python3"
  },
  "language_info": {
   "codemirror_mode": {
    "name": "ipython",
    "version": 3
   },
   "file_extension": ".py",
   "mimetype": "text/x-python",
   "name": "python",
   "nbconvert_exporter": "python",
   "pygments_lexer": "ipython3",
   "version": "3.11.4"
  }
 },
 "nbformat": 4,
 "nbformat_minor": 5
}
